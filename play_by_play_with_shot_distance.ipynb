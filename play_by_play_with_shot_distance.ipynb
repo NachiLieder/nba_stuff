{
 "cells": [
  {
   "cell_type": "code",
   "execution_count": 2,
   "metadata": {},
   "outputs": [
    {
     "name": "stderr",
     "output_type": "stream",
     "text": [
      "C:\\Users\\212778050\\AppData\\Local\\Continuum\\anaconda3\\lib\\site-packages\\numpy\\lib\\arraysetops.py:569: FutureWarning: elementwise comparison failed; returning scalar instead, but in the future will perform elementwise comparison\n",
      "  mask |= (ar1 == a)\n"
     ]
    },
    {
     "name": "stdout",
     "output_type": "stream",
     "text": [
      "done\n"
     ]
    }
   ],
   "source": [
    "import pandas as pd\n",
    "df = pd.read_csv('ShotChartDetail_v2.csv')\n",
    "pbp = pd.read_csv('large_playbyplayv2_df.csv', index_col=0)\n",
    "\n",
    "print('done')"
   ]
  },
  {
   "cell_type": "code",
   "execution_count": 48,
   "metadata": {},
   "outputs": [
    {
     "data": {
      "text/plain": [
       "103.0"
      ]
     },
     "execution_count": 48,
     "metadata": {},
     "output_type": "execute_result"
    }
   ],
   "source": [
    "# single_game = pbp[pbp['GAME_ID']==21900192]\n",
    "# is_home = 1\n",
    "\n",
    "\n",
    "def get_possessions_per_game_and_team(GAME_ID,is_home):\n",
    "    single_game = pbp[pbp['GAME_ID']==GAME_ID]\n",
    "    index_indicator = 'Home_EOP' if is_home==1 else 'Visitor_EOP'\n",
    "\n",
    "    single_game = single_game.sort_values('EVENTNUM')\n",
    "    single_game['Shift_HOMEDESCRIPTION'] = single_game['HOMEDESCRIPTION'].shift(-1)\n",
    "    single_game[['Shift_HOMEDESCRIPTION','HOMEDESCRIPTION']]\n",
    "    single_game.loc[(single_game['HOMEDESCRIPTION'].isnull()==False)&\n",
    "                    (single_game['Shift_HOMEDESCRIPTION'].isnull()==True)&\n",
    "                    (single_game['EVENTMSGTYPE'].isin([1,2,3,4,5,7,9])),'Home_EOP'] = 1\n",
    "    single_game['Home_EOP'].fillna(0,inplace=True)\n",
    "    single_game[['Shift_HOMEDESCRIPTION','HOMEDESCRIPTION','VISITORDESCRIPTION','Home_EOP']]\n",
    "\n",
    "    single_game['Shift_VISITORDESCRIPTION'] = single_game['VISITORDESCRIPTION'].shift(-1)\n",
    "    single_game[['Shift_VISITORDESCRIPTION','VISITORDESCRIPTION']]\n",
    "    single_game.loc[(single_game['VISITORDESCRIPTION'].isnull()==False)&\n",
    "                    (single_game['Shift_VISITORDESCRIPTION'].isnull()==True)&\n",
    "                    (single_game['EVENTMSGTYPE'].isin([1,2,3,4,5,7,9])),'Visitor_EOP'] = 1\n",
    "    single_game['Visitor_EOP'].fillna(0,inplace=True)\n",
    "    return single_game[['Home_EOP','Visitor_EOP']].sum().loc[index_indicator]\n",
    "\n",
    "\n",
    "# 1,2,3,4,5,7,9\n",
    "# single_game[['EVENTMSGTYPE','VISITORDESCRIPTION']]"
   ]
  },
  {
   "cell_type": "code",
   "execution_count": null,
   "metadata": {},
   "outputs": [],
   "source": []
  }
 ],
 "metadata": {
  "kernelspec": {
   "display_name": "Python 3",
   "language": "python",
   "name": "python3"
  },
  "language_info": {
   "codemirror_mode": {
    "name": "ipython",
    "version": 3
   },
   "file_extension": ".py",
   "mimetype": "text/x-python",
   "name": "python",
   "nbconvert_exporter": "python",
   "pygments_lexer": "ipython3",
   "version": "3.7.3"
  }
 },
 "nbformat": 4,
 "nbformat_minor": 2
}
