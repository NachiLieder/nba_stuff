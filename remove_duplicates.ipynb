{
 "cells": [
  {
   "cell_type": "code",
   "execution_count": null,
   "metadata": {},
   "outputs": [],
   "source": []
  },
  {
   "cell_type": "code",
   "execution_count": 6,
   "metadata": {},
   "outputs": [],
   "source": [
    "infilename = 'ShotChartDetail_v2.csv'\n",
    "outfile =  'ShotChartDetail_v2_no_duplicates.csv'\n",
    "\n",
    "\n",
    "def m1():\n",
    "    s = set()\n",
    "    with open(outfile, 'w') as out:\n",
    "        for line in open(infilename):\n",
    "            if line not in s:\n",
    "                out.write(line)\n",
    "                s.add(line)\n",
    "\n",
    "m1()"
   ]
  }
 ],
 "metadata": {
  "kernelspec": {
   "display_name": "Python 3",
   "language": "python",
   "name": "python3"
  },
  "language_info": {
   "codemirror_mode": {
    "name": "ipython",
    "version": 3
   },
   "file_extension": ".py",
   "mimetype": "text/x-python",
   "name": "python",
   "nbconvert_exporter": "python",
   "pygments_lexer": "ipython3",
   "version": "3.7.3"
  }
 },
 "nbformat": 4,
 "nbformat_minor": 2
}
